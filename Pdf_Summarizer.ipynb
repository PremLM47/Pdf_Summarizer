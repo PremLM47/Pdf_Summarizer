{
  "nbformat": 4,
  "nbformat_minor": 0,
  "metadata": {
    "colab": {
      "provenance": []
    },
    "kernelspec": {
      "name": "python3",
      "display_name": "Python 3"
    },
    "language_info": {
      "name": "python"
    }
  },
  "cells": [
    {
      "cell_type": "code",
      "source": [
        "pip install pdfminer.six"
      ],
      "metadata": {
        "id": "GBXrRSv4ejIQ",
        "colab": {
          "base_uri": "https://localhost:8080/"
        },
        "outputId": "fddeb5bf-ad9b-4d3e-a310-ee93fdb089cf"
      },
      "execution_count": 7,
      "outputs": [
        {
          "output_type": "stream",
          "name": "stdout",
          "text": [
            "Requirement already satisfied: pdfminer.six in /usr/local/lib/python3.10/dist-packages (20221105)\n",
            "Requirement already satisfied: charset-normalizer>=2.0.0 in /usr/local/lib/python3.10/dist-packages (from pdfminer.six) (3.2.0)\n",
            "Requirement already satisfied: cryptography>=36.0.0 in /usr/local/lib/python3.10/dist-packages (from pdfminer.six) (41.0.3)\n",
            "Requirement already satisfied: cffi>=1.12 in /usr/local/lib/python3.10/dist-packages (from cryptography>=36.0.0->pdfminer.six) (1.15.1)\n",
            "Requirement already satisfied: pycparser in /usr/local/lib/python3.10/dist-packages (from cffi>=1.12->cryptography>=36.0.0->pdfminer.six) (2.21)\n"
          ]
        }
      ]
    },
    {
      "cell_type": "code",
      "source": [
        "!pip install -m spacy download en_core_web_sm"
      ],
      "metadata": {
        "id": "uye0UVcafVnf",
        "colab": {
          "base_uri": "https://localhost:8080/"
        },
        "outputId": "b1b2fe31-739a-49ce-840b-e1bf7a51f477"
      },
      "execution_count": 8,
      "outputs": [
        {
          "output_type": "stream",
          "name": "stdout",
          "text": [
            "\n",
            "Usage:   \n",
            "  pip3 install [options] <requirement specifier> [package-index-options] ...\n",
            "  pip3 install [options] -r <requirements file> [package-index-options] ...\n",
            "  pip3 install [options] [-e] <vcs project url> ...\n",
            "  pip3 install [options] [-e] <local project path> ...\n",
            "  pip3 install [options] <archive url/path> ...\n",
            "\n",
            "no such option: -m\n"
          ]
        }
      ]
    },
    {
      "cell_type": "code",
      "source": [
        "pip install sumy"
      ],
      "metadata": {
        "id": "3Pm5_bKIhHHt",
        "colab": {
          "base_uri": "https://localhost:8080/"
        },
        "outputId": "cbf90196-500c-4221-a653-98be88ebd711"
      },
      "execution_count": 9,
      "outputs": [
        {
          "output_type": "stream",
          "name": "stdout",
          "text": [
            "Requirement already satisfied: sumy in /usr/local/lib/python3.10/dist-packages (0.11.0)\n",
            "Requirement already satisfied: docopt<0.7,>=0.6.1 in /usr/local/lib/python3.10/dist-packages (from sumy) (0.6.2)\n",
            "Requirement already satisfied: breadability>=0.1.20 in /usr/local/lib/python3.10/dist-packages (from sumy) (0.1.20)\n",
            "Requirement already satisfied: requests>=2.7.0 in /usr/local/lib/python3.10/dist-packages (from sumy) (2.31.0)\n",
            "Requirement already satisfied: pycountry>=18.2.23 in /usr/local/lib/python3.10/dist-packages (from sumy) (22.3.5)\n",
            "Requirement already satisfied: nltk>=3.0.2 in /usr/local/lib/python3.10/dist-packages (from sumy) (3.8.1)\n",
            "Requirement already satisfied: chardet in /usr/local/lib/python3.10/dist-packages (from breadability>=0.1.20->sumy) (5.2.0)\n",
            "Requirement already satisfied: lxml>=2.0 in /usr/local/lib/python3.10/dist-packages (from breadability>=0.1.20->sumy) (4.9.3)\n",
            "Requirement already satisfied: click in /usr/local/lib/python3.10/dist-packages (from nltk>=3.0.2->sumy) (8.1.7)\n",
            "Requirement already satisfied: joblib in /usr/local/lib/python3.10/dist-packages (from nltk>=3.0.2->sumy) (1.3.2)\n",
            "Requirement already satisfied: regex>=2021.8.3 in /usr/local/lib/python3.10/dist-packages (from nltk>=3.0.2->sumy) (2023.6.3)\n",
            "Requirement already satisfied: tqdm in /usr/local/lib/python3.10/dist-packages (from nltk>=3.0.2->sumy) (4.66.1)\n",
            "Requirement already satisfied: setuptools in /usr/local/lib/python3.10/dist-packages (from pycountry>=18.2.23->sumy) (67.7.2)\n",
            "Requirement already satisfied: charset-normalizer<4,>=2 in /usr/local/lib/python3.10/dist-packages (from requests>=2.7.0->sumy) (3.2.0)\n",
            "Requirement already satisfied: idna<4,>=2.5 in /usr/local/lib/python3.10/dist-packages (from requests>=2.7.0->sumy) (3.4)\n",
            "Requirement already satisfied: urllib3<3,>=1.21.1 in /usr/local/lib/python3.10/dist-packages (from requests>=2.7.0->sumy) (2.0.4)\n",
            "Requirement already satisfied: certifi>=2017.4.17 in /usr/local/lib/python3.10/dist-packages (from requests>=2.7.0->sumy) (2023.7.22)\n"
          ]
        }
      ]
    },
    {
      "cell_type": "code",
      "source": [
        "import spacy\n",
        "import nltk\n",
        "\n",
        "from sumy.parsers.plaintext import PlaintextParser\n",
        "from sumy.nlp.tokenizers import Tokenizer\n",
        "from sumy.summarizers.lsa import LsaSummarizer\n",
        "from pdfminer.high_level import extract_text\n"
      ],
      "metadata": {
        "id": "9Y1Hydcwf9KC"
      },
      "execution_count": 10,
      "outputs": []
    },
    {
      "cell_type": "code",
      "source": [
        "nltk.download('punkt')\n",
        "nltk.download('stopwords')"
      ],
      "metadata": {
        "id": "A_S0FVW9Mwon",
        "colab": {
          "base_uri": "https://localhost:8080/"
        },
        "outputId": "a2096eaa-a579-44d5-8bc7-c97c296dd2e6"
      },
      "execution_count": 11,
      "outputs": [
        {
          "output_type": "stream",
          "name": "stderr",
          "text": [
            "[nltk_data] Downloading package punkt to /root/nltk_data...\n",
            "[nltk_data]   Package punkt is already up-to-date!\n",
            "[nltk_data] Downloading package stopwords to /root/nltk_data...\n",
            "[nltk_data]   Package stopwords is already up-to-date!\n"
          ]
        },
        {
          "output_type": "execute_result",
          "data": {
            "text/plain": [
              "True"
            ]
          },
          "metadata": {},
          "execution_count": 11
        }
      ]
    },
    {
      "cell_type": "code",
      "source": [
        "# Load SpaCy model\n",
        "nlp = spacy.load(\"en_core_web_sm\")\n",
        "\n",
        "# Function to extract text from a PDF file\n",
        "def extract(pdf_file: str) -> str:\n",
        "    text = extract_text(pdf_file)\n",
        "    return text\n",
        "\n",
        "def extractive_summarization(text, num_sentences):\n",
        "\n",
        "    # Create a plaintext parser\n",
        "    parser = PlaintextParser.from_string(text, Tokenizer(\"english\"))\n",
        "\n",
        "    # Create an LSA summarizer\n",
        "    summarizer = LsaSummarizer()\n",
        "\n",
        "    # Summarize the text\n",
        "    summary = summarizer(parser.document, num_sentences)\n",
        "\n",
        "    # Combine the summarized sentences into a string with each sentence on a separate line\n",
        "    summarized_text = \"\\n\".join([str(sentence) for sentence in summary])\n",
        "\n",
        "    return summarized_text\n",
        "\n",
        "if __name__ == \"__main__\":\n",
        "\n",
        "    pdf_file_path = \"/content/Operations Management.pdf\"\n",
        "\n",
        "    # Extract text from PDF\n",
        "    pdf_text = extract(pdf_file_path)\n",
        "\n",
        "\n",
        "    summary = extractive_summarization(pdf_text, num_sentences=27)  # You can adjust the number of sentences\n",
        "\n",
        "    # Print the summary\n",
        "    print(\"Extractive Summary:\")\n",
        "    print(summary)\n",
        "\n",
        "    # counting the number of words in the summary\n",
        "    words=summary.split()\n",
        "    count=len(words)\n",
        "    print(count)\n"
      ],
      "metadata": {
        "id": "2eSHI9nff9Pu",
        "colab": {
          "base_uri": "https://localhost:8080/"
        },
        "outputId": "c5e4f8f9-ee31-4c7a-abc6-762c7d29d57a"
      },
      "execution_count": 12,
      "outputs": [
        {
          "output_type": "stream",
          "name": "stdout",
          "text": [
            "Extractive Summary:\n",
            "Operations Management Business enterprises entail the provision of goods and services to their immediate customers.\n",
            "In the year 1911, for example, Fredrick Taylor developed operations management principles that involved a scientific approach.\n",
            "According to him, the production processes required a deep understanding for an effective and efficient management approach.\n",
            "In this approach, the company had to adopt production techniques that would help them cut on their production cost and at the same time enable them to produce durable products.\n",
            "Globalization moved to integrate the world into one economy in which trade barriers were greatly reduced or eliminated by governments and this had impacts on organizations.\n",
            "Consequently, competition in every market was increased following infiltration of markets by foreign investors.\n",
            "Firms have continuously been forced to look for appropriate avenues to maintain the customer satisfaction levels together with efficiency and affectivity in their production processes for profitability in the price competitive markets.\n",
            "This has therefore put pressure for critical adjustments in the management (Rowbotham, Azhashemi and Galloway 12).\n",
            "systems have for instance been shaping the organization and control aspects that are functions of operations managers.\n",
            "Approaches to planning and designing of operation processes have also been transformed by developments in technology.\n",
            "This has resulted in further development of principles for aligning operations to meeting desired objectives.\n",
            "If the production process is experiencing a limitation in any of its necessary resources, inefficiency will be established with respect to this process which will then be transferred along the production chain to subsequent processes.\n",
            "Efficiencies in processes also depend on the individual commodity that is being produced.\n",
            "Though ensuring quality can involve a lot of inputs, it is advantageous to the whole process.\n",
            "With increased quality, in a process, wastages due to defective productions are reduced or even eliminated.\n",
            "These among other established principles in the operation processes are elements of operations management (Bruner 140).\n",
            "Such management focuses on the aim to optimize efficiency and effectiveness of processes that are undertaken in an organization.\n",
            "Planning, as one of the functions of operations management is a fundamental aspect not only to a particular operation, but to an entire supply chain and even the entire organization.\n",
            "This is then followed by sourcing and selection of qualified individual with potential to create the desired input.\n",
            "Having recruited and employed human resource, the operations management also ensures employees’ well being.\n",
            "With this respect, the management ensures that working conditions and productivity are controlled to optimization (Haynes Romanda, 6).\n",
            "Provisions for appropriate designs that can help in reducing the costs are also considered.\n",
            "The objectives can be classified into two categories, “customer service and resource utilization” (Kumar 11).\n",
            "Objectives also outline timing for such activities in order to ensure a smooth manufacturing process and the final delivery.\n",
            "Efficiently organized operations processes will ensure that these aspects are met in its production.\n",
            "Such effective applications results in relatively reduced production costs and subsequent profitability ratios.\n",
            "The management also helps in ensuring that work in progress as held by its institution is controlled at low levels to reduce costs of storage of such materials or products.\n",
            "515\n"
          ]
        }
      ]
    }
  ]
}